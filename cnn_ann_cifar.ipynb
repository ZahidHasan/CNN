{
 "cells": [
  {
   "cell_type": "markdown",
   "metadata": {},
   "source": [
    "### Import Library"
   ]
  },
  {
   "cell_type": "code",
   "execution_count": 1,
   "metadata": {},
   "outputs": [],
   "source": [
    "import tensorflow as tf\n",
    "import matplotlib.pyplot as plt\n",
    "import seaborn as sns\n",
    "import pandas as pd\n",
    "import numpy as np\n",
    "from tensorflow.keras import datasets\n",
    "from tensorflow.keras.layers import Dense, Flatten, Conv2D, MaxPooling2D\n",
    "from tensorflow.keras.models import Sequential\n",
    "from sklearn.metrics import confusion_matrix , classification_report"
   ]
  },
  {
   "cell_type": "markdown",
   "metadata": {},
   "source": [
    "### Load CIFAR dataset"
   ]
  },
  {
   "cell_type": "code",
   "execution_count": 2,
   "metadata": {},
   "outputs": [],
   "source": [
    "(x_train, y_train), (x_test, y_test) = datasets.cifar10.load_data()\n",
    "y_train = y_train.ravel() # flatten y_train"
   ]
  },
  {
   "cell_type": "code",
   "execution_count": 3,
   "metadata": {},
   "outputs": [],
   "source": [
    "classes = ['airplane','automobile','bird','cat','deer','dog','frog','horse','ship','truck']"
   ]
  },
  {
   "cell_type": "markdown",
   "metadata": {},
   "source": [
    "### Plot sample image"
   ]
  },
  {
   "cell_type": "code",
   "execution_count": 4,
   "metadata": {},
   "outputs": [
    {
     "data": {
      "image/png": "[encoded data removed]",
      "text/plain": [
       "<Figure size 1080x144 with 1 Axes>"
      ]
     },
     "metadata": {
      "needs_background": "light"
     },
     "output_type": "display_data"
    }
   ],
   "source": [
    "def plot_sample(x,y,index):\n",
    "    plt.figure(figsize=(15,2))\n",
    "    plt.imshow(x[index])\n",
    "    plt.xlabel(classes[y[index]])\n",
    "    \n",
    "plot_sample(x_train, y_train, 0)"
   ]
  },
  {
   "cell_type": "markdown",
   "metadata": {},
   "source": [
    "### Normalize the training data"
   ]
  },
  {
   "cell_type": "code",
   "execution_count": 5,
   "metadata": {},
   "outputs": [],
   "source": [
    "x_train = x_train / 255.0\n",
    "x_test = x_test / 255.0"
   ]
  },
  {
   "cell_type": "markdown",
   "metadata": {},
   "source": [
    "## ANN Model"
   ]
  },
  {
   "cell_type": "code",
   "execution_count": 6,
   "metadata": {},
   "outputs": [
    {
     "name": "stdout",
     "output_type": "stream",
     "text": [
      "Epoch 1/5\n",
      "1563/1563 [==============================] - 100s 63ms/step - loss: 1.9191 - accuracy: 0.3220\n",
      "Epoch 2/5\n",
      "1563/1563 [==============================] - 94s 60ms/step - loss: 1.7062 - accuracy: 0.3925\n",
      "Epoch 3/5\n",
      "1563/1563 [==============================] - 95s 61ms/step - loss: 1.6232 - accuracy: 0.4243\n",
      "Epoch 4/5\n",
      "1563/1563 [==============================] - 96s 61ms/step - loss: 1.5638 - accuracy: 0.4479\n",
      "Epoch 5/5\n",
      "1563/1563 [==============================] - 90s 57ms/step - loss: 1.5239 - accuracy: 0.4608\n"
     ]
    },
    {
     "data": {
      "text/plain": [
       "<keras.callbacks.History at 0x1b9538bfeb0>"
      ]
     },
     "execution_count": 6,
     "metadata": {},
     "output_type": "execute_result"
    }
   ],
   "source": [
    "model_ann = Sequential()\n",
    "model_ann.add(Flatten(input_shape=(32,32,3)))\n",
    "model_ann.add(Dense(3000, activation='tanh'))\n",
    "model_ann.add(Dense(1000, activation='tanh'))\n",
    "model_ann.add(Dense(10, activation='softmax'))\n",
    "\n",
    "model_ann.compile(optimizer='SGD', loss='sparse_categorical_crossentropy', metrics=['accuracy'])\n",
    "model_ann.fit(x_train, y_train, epochs=5)"
   ]
  },
  {
   "cell_type": "code",
   "execution_count": 7,
   "metadata": {},
   "outputs": [
    {
     "name": "stdout",
     "output_type": "stream",
     "text": [
      "313/313 [==============================] - 20s 62ms/step - loss: 1.5292 - accuracy: 0.4594\n"
     ]
    },
    {
     "data": {
      "text/plain": [
       "<keras.callbacks.History at 0x1b954cf93d0>"
      ]
     },
     "execution_count": 7,
     "metadata": {},
     "output_type": "execute_result"
    }
   ],
   "source": [
    "model_ann.fit(x_test, y_test)"
   ]
  },
  {
   "cell_type": "code",
   "execution_count": 8,
   "metadata": {},
   "outputs": [
    {
     "name": "stdout",
     "output_type": "stream",
     "text": [
      "Classification Report: \n",
      "               precision    recall  f1-score   support\n",
      "\n",
      "           0       0.39      0.75      0.51      1000\n",
      "           1       0.62      0.57      0.59      1000\n",
      "           2       0.33      0.43      0.37      1000\n",
      "           3       0.36      0.33      0.34      1000\n",
      "           4       0.54      0.17      0.26      1000\n",
      "           5       0.44      0.37      0.40      1000\n",
      "           6       0.43      0.69      0.53      1000\n",
      "           7       0.73      0.36      0.48      1000\n",
      "           8       0.60      0.54      0.57      1000\n",
      "           9       0.62      0.47      0.54      1000\n",
      "\n",
      "    accuracy                           0.47     10000\n",
      "   macro avg       0.51      0.47      0.46     10000\n",
      "weighted avg       0.51      0.47      0.46     10000\n",
      "\n"
     ]
    }
   ],
   "source": [
    "y_pred = model_ann.predict(x_test)\n",
    "y_pred_classes = [np.argmax(element) for element in y_pred]\n",
    "print(\"Classification Report: \\n\", classification_report(y_test, y_pred_classes))"
   ]
  },
  {
   "cell_type": "markdown",
   "metadata": {},
   "source": [
    "## CNN Model"
   ]
  },
  {
   "cell_type": "code",
   "execution_count": 9,
   "metadata": {},
   "outputs": [
    {
     "name": "stdout",
     "output_type": "stream",
     "text": [
      "Epoch 1/5\n",
      "1563/1563 [==============================] - 46s 29ms/step - loss: 1.4773 - accuracy: 0.4704\n",
      "Epoch 2/5\n",
      "1563/1563 [==============================] - 49s 31ms/step - loss: 1.1290 - accuracy: 0.6035\n",
      "Epoch 3/5\n",
      "1563/1563 [==============================] - 46s 29ms/step - loss: 0.9950 - accuracy: 0.6519\n",
      "Epoch 4/5\n",
      "1563/1563 [==============================] - 56s 36ms/step - loss: 0.9036 - accuracy: 0.68360s - loss: 0.9037 - accu\n",
      "Epoch 5/5\n",
      "1563/1563 [==============================] - 52s 33ms/step - loss: 0.8392 - accuracy: 0.7069\n"
     ]
    },
    {
     "data": {
      "text/plain": [
       "<keras.callbacks.History at 0x1b955f33760>"
      ]
     },
     "execution_count": 9,
     "metadata": {},
     "output_type": "execute_result"
    }
   ],
   "source": [
    "model_cnn = Sequential()\n",
    "model_cnn.add(Conv2D(filters=32, kernel_size=(3, 3), activation='relu', input_shape=(32, 32, 3)))\n",
    "model_cnn.add(MaxPooling2D((2, 2)))\n",
    "\n",
    "model_cnn.add(Conv2D(filters=64, kernel_size=(3, 3), activation='relu'))\n",
    "model_cnn.add(MaxPooling2D((2, 2)))\n",
    "\n",
    "model_cnn.add(Flatten())\n",
    "model_cnn.add(Dense(64, activation='relu'))\n",
    "model_cnn.add(Dense(10, activation='softmax'))\n",
    "\n",
    "model_cnn.compile(optimizer='adam',loss='sparse_categorical_crossentropy',metrics=['accuracy'])\n",
    "model_cnn.fit(x_train, y_train, epochs=5)"
   ]
  },
  {
   "cell_type": "code",
   "execution_count": 10,
   "metadata": {},
   "outputs": [
    {
     "name": "stdout",
     "output_type": "stream",
     "text": [
      "313/313 [==============================] - 11s 34ms/step - loss: 0.9373 - accuracy: 0.6781\n"
     ]
    },
    {
     "data": {
      "text/plain": [
       "<keras.callbacks.History at 0x1b956229d60>"
      ]
     },
     "execution_count": 10,
     "metadata": {},
     "output_type": "execute_result"
    }
   ],
   "source": [
    "model_cnn.fit(x_test, y_test)"
   ]
  },
  {
   "cell_type": "code",
   "execution_count": 11,
   "metadata": {},
   "outputs": [
    {
     "name": "stdout",
     "output_type": "stream",
     "text": [
      "Classification Report: \n",
      "               precision    recall  f1-score   support\n",
      "\n",
      "           0       0.80      0.73      0.77      1000\n",
      "           1       0.89      0.79      0.84      1000\n",
      "           2       0.65      0.58      0.61      1000\n",
      "           3       0.54      0.60      0.57      1000\n",
      "           4       0.62      0.74      0.68      1000\n",
      "           5       0.68      0.59      0.63      1000\n",
      "           6       0.80      0.80      0.80      1000\n",
      "           7       0.73      0.81      0.77      1000\n",
      "           8       0.86      0.80      0.83      1000\n",
      "           9       0.77      0.86      0.81      1000\n",
      "\n",
      "    accuracy                           0.73     10000\n",
      "   macro avg       0.74      0.73      0.73     10000\n",
      "weighted avg       0.74      0.73      0.73     10000\n",
      "\n"
     ]
    }
   ],
   "source": [
    "y_pred = model_cnn.predict(x_test)\n",
    "y_pred_classes = [np.argmax(element) for element in y_pred]\n",
    "print(\"Classification Report: \\n\", classification_report(y_test, y_pred_classes))"
   ]
  }
 ],
 "metadata": {
  "interpreter": {
   "hash": "7ae245cf79704e5797fd4d60c4248e2b6f23b2e8e1990512b9ce20c016807a5c"
  },
  "kernelspec": {
   "display_name": "Python 3.9.8 64-bit",
   "language": "python",
   "name": "python3"
  },
  "language_info": {
   "codemirror_mode": {
    "name": "ipython",
    "version": 3
   },
   "file_extension": ".py",
   "mimetype": "text/x-python",
   "name": "python",
   "nbconvert_exporter": "python",
   "pygments_lexer": "ipython3",
   "version": "3.9.8"
  },
  "orig_nbformat": 4
 },
 "nbformat": 4,
 "nbformat_minor": 2
}
